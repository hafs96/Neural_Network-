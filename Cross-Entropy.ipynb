{
 "cells": [
  {
   "cell_type": "markdown",
   "metadata": {},
   "source": [
    "----- Implémentation avec Log Likelihood (Cross-Entropy) "
   ]
  },
  {
   "cell_type": "code",
   "execution_count": null,
   "metadata": {},
   "outputs": [],
   "source": [
    "import numpy as np\n",
    "\n",
    "x = np.array([1, 2])\n",
    "y = 1  \n",
    "w1 = np.array([[0.5, 0.5], [0, 0.5]],dtype=float)  \n",
    "w2 = np.array([1, -1],dtype=float)  \n",
    "\n",
    "n = 0.1\n",
    "\n",
    "def activation(x):\n",
    "    return 1 / (1 + np.exp(-x))\n",
    "\n",
    "\n",
    "def log(y, y_hat):\n",
    "    return - (y * np.log(y_hat) + (1 - y) * np.log(1 - y_hat))\n",
    "\n",
    "for i in range(1000):  \n",
    "    z1 = w1.dot(x)         \n",
    "    A = activation(z1)     \n",
    "    T = w2.dot(A)         \n",
    "    y_hat = activation(T)  \n",
    "    error = y_hat - y  \n",
    "    dL_dT = error       \n",
    "    dL_dw2 = dL_dT * A  \n",
    "\n",
    "    dL_dA = dL_dT * w2 * (A * (1 - A))  \n",
    "    dL_dw1 = np.outer(dL_dA, x)         \n",
    "\n",
    "    w2 -= n * dL_dw2\n",
    "    w1 -= n * dL_dw1\n",
    "\n",
    "    if i % 100 == 0:\n",
    "        print(f'i {i}, log: {log(y, y_hat)}')\n",
    "\n",
    "print(f\" w1: \\n{w1}\")\n",
    "print(f\" w2: \\n{w2}\")\n"
   ]
  }
 ],
 "metadata": {
  "language_info": {
   "name": "python"
  }
 },
 "nbformat": 4,
 "nbformat_minor": 2
}
