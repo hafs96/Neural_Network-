{
 "cells": [
  {
   "cell_type": "code",
   "execution_count": 1,
   "metadata": {},
   "outputs": [
    {
     "name": "stdout",
     "output_type": "stream",
     "text": [
      "Iteration 1:\n",
      "  w = 0.3572, b = 0.9200\n",
      "Iteration 2:\n",
      "  w = 0.2182, b = 0.9123\n",
      "Iteration 3:\n",
      "  w = 0.1870, b = 0.9201\n"
     ]
    }
   ],
   "source": [
    "# Données fournies\n",
    "x = [1, 2, 3, 4, 5, 6, 7, 8, 9, 10]  # Entrées\n",
    "y = [3.5, 2.7, 3.4, 3.8, 2.1, 1.8, 2.3, 2.7, 1.7, 1.0]  # Sorties réelles\n",
    "w = 1  # Poids initial\n",
    "b = 1  # Biais initial\n",
    "n = 0.01  # Taux d'apprentissage\n",
    "N = len(x)  # Nombre de données\n",
    "\n",
    "# Effectuer 3 itérations\n",
    "for iteration in range(1, 4):\n",
    "    # Calcul des prédictions\n",
    "    y_pred = [w * xi + b for xi in x]\n",
    "    dL_dy = [-2 * (yi - y_hat) / N for yi, y_hat in zip(y, y_pred)]  \n",
    "    dL_dw = sum(d * xi for d, xi in zip(dL_dy, x))  # Gradient par rapport à w\n",
    "    dL_db = sum(dL_dy)  # Gradient par rapport à b\n",
    "\n",
    "    # Mise à jour des poids et du biais\n",
    "    w -= n * dL_dw\n",
    "    b -= n * dL_db\n",
    "\n",
    "    # Affichage des résultats\n",
    "    print(f\"Iteration {iteration}:\")\n",
    "    print(f\"  w = {w:.4f}, b = {b:.4f}\")\n"
   ]
  }
 ],
 "metadata": {
  "kernelspec": {
   "display_name": "venv",
   "language": "python",
   "name": "python3"
  },
  "language_info": {
   "codemirror_mode": {
    "name": "ipython",
    "version": 3
   },
   "file_extension": ".py",
   "mimetype": "text/x-python",
   "name": "python",
   "nbconvert_exporter": "python",
   "pygments_lexer": "ipython3",
   "version": "3.13.1"
  }
 },
 "nbformat": 4,
 "nbformat_minor": 2
}
